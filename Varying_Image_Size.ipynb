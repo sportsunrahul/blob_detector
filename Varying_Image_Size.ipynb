{
 "cells": [
  {
   "cell_type": "markdown",
   "metadata": {},
   "source": [
    "# Varying Image Size"
   ]
  },
  {
   "cell_type": "code",
   "execution_count": 1,
   "metadata": {},
   "outputs": [],
   "source": [
    "import numpy as np\n",
    "import cv2\n",
    "import time\n",
    "import matplotlib.pyplot as plt\n",
    "%matplotlib inline"
   ]
  },
  {
   "cell_type": "code",
   "execution_count": 2,
   "metadata": {},
   "outputs": [],
   "source": [
    "import sys\n",
    "def makeLOGfilter(size,sigma):\n",
    "    siz=size//2\n",
    "    # This creates a LoG filter\n",
    "    x = y = np.linspace(-siz, siz, 2*siz+1)\n",
    "    x, y = np.meshgrid(x, y)\n",
    "    arg = -(x**2 + y**2) / (2*sigma**2)\n",
    "    h = np.exp(arg)\n",
    "    h[h < sys.float_info.epsilon * h.max()] = 0\n",
    "    h = h/h.sum() if h.sum() != 0 else h\n",
    "    h1 = h*(x**2 + y**2 - 2*sigma**2) / (sigma**4)\n",
    "    return h1 - h1.mean()"
   ]
  },
  {
   "cell_type": "code",
   "execution_count": 3,
   "metadata": {},
   "outputs": [],
   "source": [
    "def conv(img,kernel):\n",
    "    s = kernel.shape[0] //2\n",
    "    m,n = img.shape\n",
    "    temp = (np.zeros((m+2*s,n+2*s)))\n",
    "    temp[s:-s,s:-s] = img\n",
    "    for i in range(s,m+s):\n",
    "        for j in range(s,n+s):\n",
    "            img[i-s,j-s] = np.sum(temp[i-s:i+s+1,j-s:j+s+1]*kernel)\n",
    "    return img"
   ]
  },
  {
   "cell_type": "code",
   "execution_count": 4,
   "metadata": {},
   "outputs": [],
   "source": [
    "def subsample(img): \n",
    "    return img[::2,::2] \n",
    "def upsample(image):\n",
    "    m,n = image.shape\n",
    "    upsample = np.ones((2*m,2*n))\n",
    "    upsample[::2,::2] = image\n",
    "    upsample[1::2,1::2] = image\n",
    "    upsample[::2,1::2] = image\n",
    "    upsample[1::2,::2] = image\n",
    "    return upsample"
   ]
  },
  {
   "cell_type": "code",
   "execution_count": 5,
   "metadata": {},
   "outputs": [],
   "source": [
    "def nonmaximasuppression(img,octave,scale,sigma):\n",
    "    m,n = octave[0].shape\n",
    "    temp = np.zeros((scale,m,n))    \n",
    "    th = 0.08\n",
    "    sigma = [sigma*(k**i) for i in range(scale)]\n",
    "    rad = [np.int(np.ceil(np.sqrt(2)*sigma[i])) for i in range(scale)]\n",
    "    for curr in range(0,scale):\n",
    "        for x in range(rad[curr],m-rad[curr]):\n",
    "            for y in range(rad[curr],n-rad[curr]):\n",
    "                if (curr == 0 and octave[curr,x,y]>th and octave[curr,x,y] == np.max([octave[curr,x-1:x+2,y-1:y+2], octave[curr+1,x-1:x+2,y-1:y+2]])):\n",
    "                    temp[curr,x,y] = 1\n",
    "                    img = cv2.circle(img, (y,x), rad[curr], (0,0,255), 1)\n",
    "                elif (curr == scale-1 and octave[curr,x,y]>th and octave[curr,x,y] == np.max([octave[curr,x-1:x+2,y-1:y+2], octave[curr-1,x-1:x+2,y-1:y+2]])):\n",
    "                    temp[curr,x,y] = 1\n",
    "                    img = cv2.circle(img, (y,x), rad[curr], (0,0,255), 1)\n",
    "                elif(0<curr<scale-1 and octave[curr,x,y]>th and octave[curr,x,y] == np.max([octave[curr,x-1:x+2,y-1:y+2], octave[curr-1,x-1:x+2,y-1:y+2], octave[curr+1,x-1:x+2,y-1:y+2]])):\n",
    "                    temp[curr,x,y] = 1\n",
    "                    img = cv2.circle(img, (y,x), rad[curr], (0,0,255), 1)\n",
    "#                     print(curr)\n",
    "    return img"
   ]
  },
  {
   "cell_type": "code",
   "execution_count": 6,
   "metadata": {},
   "outputs": [],
   "source": [
    "def showimg(octave,scale,num):\n",
    "    for i in range(0,scale):\n",
    "        plt.figure(num*(scale+1)+i+1)\n",
    "        plt.imshow(octave[i],cmap='gray')\n",
    "        plt.title('Octave{}, Scale{}'.format(num,i))\n",
    "        plt.savefig('Non-Maxima Suppression: Sigma = {}.png'.format(1.4**(num+i)*1.4))\n",
    "        plt.show()"
   ]
  },
  {
   "cell_type": "markdown",
   "metadata": {},
   "source": [
    "# Main Code Starts Here:\n",
    "* Reading the image\n",
    "* Calling the functions conv and nonmaximasuppression"
   ]
  },
  {
   "cell_type": "code",
   "execution_count": 7,
   "metadata": {},
   "outputs": [
    {
     "name": "stdout",
     "output_type": "stream",
     "text": [
      "Write the image file name in the folder TestImages4Project with extension (eg. fishes.jpg): s.png\n",
      "Wrong file name given. Enter again.\n",
      "Write the image file name in the folder TestImages4Project with extension (eg. fishes.jpg): s.jpg\n"
     ]
    },
    {
     "name": "stderr",
     "output_type": "stream",
     "text": [
      "C:\\Users\\sport\\Anaconda3\\lib\\site-packages\\ipykernel_launcher.py:5: DeprecationWarning: object of type <class 'numpy.float64'> cannot be safely interpreted as an integer.\n",
      "  \"\"\"\n"
     ]
    }
   ],
   "source": [
    "while 1:\n",
    "    try:\n",
    "        path = input(\"Write the image file name in the folder TestImages4Project with extension (eg. fishes.jpg): \")\n",
    "        start_time = time.time()\n",
    "        img = cv2.imread(\"TestImages4Project\\{}\".format(path),0)\n",
    "        img = img/np.max(img)\n",
    "        break\n",
    "    except:\n",
    "        print(\"Wrong file name given. Enter again.\")\n",
    "        continue\n",
    "scale = 15\n",
    "k = 1.24\n",
    "sigma = np.sqrt(0.5)\n",
    "size = np.round(6*sigma)\n",
    "if(size%2 != 0):\n",
    "    size = size +1\n",
    "m,n = img.shape\n",
    "octave = np.zeros((scale,m,n))\n",
    "kernel = makeLOGfilter(size,sigma)\n",
    "for i in range(scale):\n",
    "    m,n = np.int(img.shape[0]/(k**i)), np.int(img.shape[1]/(k**i))\n",
    "    octave[i] = cv2.resize(np.square(conv(cv2.resize(img,(m,n)),kernel)), (img.shape[1],img.shape[0]))"
   ]
  },
  {
   "cell_type": "code",
   "execution_count": 8,
   "metadata": {},
   "outputs": [
    {
     "name": "stdout",
     "output_type": "stream",
     "text": [
      "Time Taken: 8.291768789291382\n"
     ]
    }
   ],
   "source": [
    "img = cv2.imread(\"TestImages4Project\\{}\".format(path))\n",
    "img[:,:,0] = img[:,:,2]\n",
    "img[:,:,1] = img[:,:,2]\n",
    "img = nonmaximasuppression(img,octave,scale,sigma)\n",
    "print(\"Time Taken:\", time.time()-start_time)\n",
    "# plt.imshow(cv2.cvtColor(img,cv2.COLOR_BGR2RGB))\n",
    "# plt.show()\n",
    "cv2.imshow('Blob Circles',img)\n",
    "cv2.imwrite('blob_{}.png'.format(path),img)\n",
    "cv2.waitKey(0)\n",
    "cv2.destroyAllWindows()"
   ]
  },
  {
   "cell_type": "code",
   "execution_count": 9,
   "metadata": {},
   "outputs": [],
   "source": [
    "def updateoctave(img,scale,num):\n",
    "    size = 5 \n",
    "    sigma = np.sqrt(2)*(num+1)\n",
    "    k = np.sqrt(0.5)\n",
    "    m,n = img.shape\n",
    "    octave = np.zeros((scale,m,n))\n",
    "    for i in range(0,scale):\n",
    "        kernel = makeLOGfilter(size,(k**(i-1))*sigma)\n",
    "        octave[i] = conv(img,kernel)\n",
    "        plt.figure(num*(scale+1)+i)\n",
    "        plt.imshow(octave[i],cmap='gray')\n",
    "        plt.title('Octave{}, Scale{}'.format(num,i))\n",
    "    plt.show()\n",
    "    return octave"
   ]
  }
 ],
 "metadata": {
  "kernelspec": {
   "display_name": "Python 3",
   "language": "python",
   "name": "python3"
  },
  "language_info": {
   "codemirror_mode": {
    "name": "ipython",
    "version": 3
   },
   "file_extension": ".py",
   "mimetype": "text/x-python",
   "name": "python",
   "nbconvert_exporter": "python",
   "pygments_lexer": "ipython3",
   "version": "3.6.5"
  }
 },
 "nbformat": 4,
 "nbformat_minor": 2
}
